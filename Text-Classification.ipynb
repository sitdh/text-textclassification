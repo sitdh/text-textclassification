{
 "cells": [
  {
   "cell_type": "markdown",
   "metadata": {},
   "source": [
    "# Text Classification with IMDB Movie's description"
   ]
  },
  {
   "cell_type": "markdown",
   "metadata": {},
   "source": [
    "<center><img src=\"./img/homepage.png\" style=\"max-height: 400px; max-width: auto;\"/></center>"
   ]
  },
  {
   "cell_type": "markdown",
   "metadata": {},
   "source": [
    "## IMDB Web Scraping"
   ]
  },
  {
   "cell_type": "markdown",
   "metadata": {},
   "source": [
    "For more information please open "
   ]
  },
  {
   "cell_type": "markdown",
   "metadata": {},
   "source": [
    "## Data Preprocessing"
   ]
  },
  {
   "cell_type": "markdown",
   "metadata": {},
   "source": [
    "### Read CSV File"
   ]
  },
  {
   "cell_type": "code",
   "execution_count": null,
   "metadata": {},
   "outputs": [],
   "source": [
    "import numpy as np\n",
    "import pandas as pd"
   ]
  },
  {
   "cell_type": "code",
   "execution_count": 2,
   "metadata": {},
   "outputs": [],
   "source": [
    "import csv"
   ]
  },
  {
   "cell_type": "code",
   "execution_count": 3,
   "metadata": {},
   "outputs": [],
   "source": [
    "lines = []\n",
    "with open('movie_corpus.csv') as f:\n",
    "    reader = csv.DictReader(f, delimiter='|')\n",
    "    lines = [dict(r) for r in reader]"
   ]
  },
  {
   "cell_type": "code",
   "execution_count": 4,
   "metadata": {},
   "outputs": [],
   "source": [
    "dataset = []\n",
    "for l in lines:\n",
    "    if len(l['vote']):\n",
    "        l['vote'] = None\n",
    "    elif ',' in l['vote']:\n",
    "        l['vote'] = l['vote'].replace(',', '')\n",
    "        \n",
    "    dataset.append(l)"
   ]
  },
  {
   "cell_type": "code",
   "execution_count": 5,
   "metadata": {},
   "outputs": [],
   "source": [
    "movie_corpus = pd.DataFrame(dataset)"
   ]
  },
  {
   "cell_type": "markdown",
   "metadata": {},
   "source": [
    "### Extract movie's genre"
   ]
  },
  {
   "cell_type": "code",
   "execution_count": 6,
   "metadata": {
    "tags": [
     "movie_extract_func"
    ]
   },
   "outputs": [],
   "source": [
    "def movie_genre_extraction(corpus):\n",
    "\n",
    "    movie_genre = sorted(list(set([genre.strip() \n",
    "                  for genres in corpus['genre'].tolist()\n",
    "                  for genre in genres.split(', ')])))\n",
    "    \n",
    "    return [k for k in movie_genre if len(k)]\n",
    "\n",
    "def update_for_genre(genre, corpus):\n",
    "    for genre in movie_genre:\n",
    "        corpus[genre] = corpus['genre'].apply(\n",
    "            lambda x: 1 if genre in x else 0\n",
    "        )\n",
    "    \n",
    "    return corpus\n",
    "\n",
    "def text_to_float(g):\n",
    "    \n",
    "    gross = 0\n",
    "\n",
    "    if 'float' == type(g).__name__:\n",
    "        gross = g\n",
    "        print(gross)\n",
    "    else:\n",
    "        gross = float(g.lower().replace('$', '').replace('m', ''))\n",
    "        \n",
    "    return gross\n",
    "\n",
    "def covert_gross(corpus):\n",
    "    return corpus['gross'][~corpus['gross'].isnull()].apply(text_to_float)"
   ]
  },
  {
   "cell_type": "code",
   "execution_count": 7,
   "metadata": {},
   "outputs": [],
   "source": [
    "movie_genre = movie_genre_extraction(movie_corpus)\n",
    "movie_corpus = update_for_genre(movie_genre, movie_corpus)"
   ]
  },
  {
   "cell_type": "code",
   "execution_count": 8,
   "metadata": {},
   "outputs": [
    {
     "data": {
      "text/plain": [
       "['Action',\n",
       " 'Adult',\n",
       " 'Adventure',\n",
       " 'Animation',\n",
       " 'Biography',\n",
       " 'Comedy',\n",
       " 'Crime',\n",
       " 'Documentary',\n",
       " 'Drama',\n",
       " 'Family',\n",
       " 'Fantasy',\n",
       " 'Game-Show',\n",
       " 'History',\n",
       " 'Horror',\n",
       " 'Music',\n",
       " 'Musical',\n",
       " 'Mystery',\n",
       " 'News',\n",
       " 'Reality-TV',\n",
       " 'Romance',\n",
       " 'Sci-Fi',\n",
       " 'Short',\n",
       " 'Sport',\n",
       " 'Talk-Show',\n",
       " 'Thriller',\n",
       " 'War',\n",
       " 'Western']"
      ]
     },
     "execution_count": 8,
     "metadata": {},
     "output_type": "execute_result"
    }
   ],
   "source": [
    "movie_genre"
   ]
  },
  {
   "cell_type": "code",
   "execution_count": 9,
   "metadata": {},
   "outputs": [
    {
     "data": {
      "text/html": [
       "<div>\n",
       "<style scoped>\n",
       "    .dataframe tbody tr th:only-of-type {\n",
       "        vertical-align: middle;\n",
       "    }\n",
       "\n",
       "    .dataframe tbody tr th {\n",
       "        vertical-align: top;\n",
       "    }\n",
       "\n",
       "    .dataframe thead th {\n",
       "        text-align: right;\n",
       "    }\n",
       "</style>\n",
       "<table border=\"1\" class=\"dataframe\">\n",
       "  <thead>\n",
       "    <tr style=\"text-align: right;\">\n",
       "      <th></th>\n",
       "      <th>title</th>\n",
       "      <th>year</th>\n",
       "      <th>movie_rate</th>\n",
       "      <th>runtime</th>\n",
       "      <th>genre</th>\n",
       "      <th>rating</th>\n",
       "      <th>metascore</th>\n",
       "      <th>description</th>\n",
       "      <th>directors</th>\n",
       "      <th>starts</th>\n",
       "      <th>...</th>\n",
       "      <th>News</th>\n",
       "      <th>Reality-TV</th>\n",
       "      <th>Romance</th>\n",
       "      <th>Sci-Fi</th>\n",
       "      <th>Short</th>\n",
       "      <th>Sport</th>\n",
       "      <th>Talk-Show</th>\n",
       "      <th>Thriller</th>\n",
       "      <th>War</th>\n",
       "      <th>Western</th>\n",
       "    </tr>\n",
       "  </thead>\n",
       "  <tbody>\n",
       "    <tr>\n",
       "      <th>0</th>\n",
       "      <td>Gladiator</td>\n",
       "      <td>2000</td>\n",
       "      <td>R</td>\n",
       "      <td>155</td>\n",
       "      <td>Action, Adventure, Drama</td>\n",
       "      <td>8.5</td>\n",
       "      <td>67</td>\n",
       "      <td>A former Roman General sets out to exact venge...</td>\n",
       "      <td>Ridley Scott</td>\n",
       "      <td>Russell Crowe+Joaquin Phoenix+Connie Nielsen+O...</td>\n",
       "      <td>...</td>\n",
       "      <td>0</td>\n",
       "      <td>0</td>\n",
       "      <td>0</td>\n",
       "      <td>0</td>\n",
       "      <td>0</td>\n",
       "      <td>0</td>\n",
       "      <td>0</td>\n",
       "      <td>0</td>\n",
       "      <td>0</td>\n",
       "      <td>0</td>\n",
       "    </tr>\n",
       "    <tr>\n",
       "      <th>1</th>\n",
       "      <td>Memento</td>\n",
       "      <td>2000</td>\n",
       "      <td>R</td>\n",
       "      <td>113</td>\n",
       "      <td>Mystery, Thriller</td>\n",
       "      <td>8.4</td>\n",
       "      <td>80</td>\n",
       "      <td>A man with short-term memory loss attempts to ...</td>\n",
       "      <td>Christopher Nolan</td>\n",
       "      <td>Guy Pearce+Carrie-Anne Moss+Joe Pantoliano+Mar...</td>\n",
       "      <td>...</td>\n",
       "      <td>0</td>\n",
       "      <td>0</td>\n",
       "      <td>0</td>\n",
       "      <td>0</td>\n",
       "      <td>0</td>\n",
       "      <td>0</td>\n",
       "      <td>0</td>\n",
       "      <td>1</td>\n",
       "      <td>0</td>\n",
       "      <td>0</td>\n",
       "    </tr>\n",
       "    <tr>\n",
       "      <th>2</th>\n",
       "      <td>Snatch</td>\n",
       "      <td>2000</td>\n",
       "      <td>R</td>\n",
       "      <td>104</td>\n",
       "      <td>Comedy, Crime</td>\n",
       "      <td>8.3</td>\n",
       "      <td>0</td>\n",
       "      <td>Unscrupulous boxing promoters, violent bookmak...</td>\n",
       "      <td>Guy Ritchie</td>\n",
       "      <td>Jason Statham+Brad Pitt+Stephen Graham+Vinnie ...</td>\n",
       "      <td>...</td>\n",
       "      <td>0</td>\n",
       "      <td>0</td>\n",
       "      <td>0</td>\n",
       "      <td>0</td>\n",
       "      <td>0</td>\n",
       "      <td>0</td>\n",
       "      <td>0</td>\n",
       "      <td>0</td>\n",
       "      <td>0</td>\n",
       "      <td>0</td>\n",
       "    </tr>\n",
       "    <tr>\n",
       "      <th>3</th>\n",
       "      <td>Requiem for a Dream</td>\n",
       "      <td>2000</td>\n",
       "      <td>R</td>\n",
       "      <td>102</td>\n",
       "      <td>Drama</td>\n",
       "      <td>8.3</td>\n",
       "      <td>68</td>\n",
       "      <td>The drug-induced utopias of four Coney Island ...</td>\n",
       "      <td>Darren Aronofsky</td>\n",
       "      <td>Ellen Burstyn+Jared Leto+Jennifer Connelly+Mar...</td>\n",
       "      <td>...</td>\n",
       "      <td>0</td>\n",
       "      <td>0</td>\n",
       "      <td>0</td>\n",
       "      <td>0</td>\n",
       "      <td>0</td>\n",
       "      <td>0</td>\n",
       "      <td>0</td>\n",
       "      <td>0</td>\n",
       "      <td>0</td>\n",
       "      <td>0</td>\n",
       "    </tr>\n",
       "    <tr>\n",
       "      <th>4</th>\n",
       "      <td>X-Men</td>\n",
       "      <td>2000</td>\n",
       "      <td>PG-13</td>\n",
       "      <td>104</td>\n",
       "      <td>Action, Adventure, Sci-Fi</td>\n",
       "      <td>7.4</td>\n",
       "      <td>64</td>\n",
       "      <td>In a world where mutants (evolved super-powere...</td>\n",
       "      <td>Bryan Singer</td>\n",
       "      <td>Patrick Stewart+Hugh Jackman+Ian McKellen+Famk...</td>\n",
       "      <td>...</td>\n",
       "      <td>0</td>\n",
       "      <td>0</td>\n",
       "      <td>0</td>\n",
       "      <td>1</td>\n",
       "      <td>0</td>\n",
       "      <td>0</td>\n",
       "      <td>0</td>\n",
       "      <td>0</td>\n",
       "      <td>0</td>\n",
       "      <td>0</td>\n",
       "    </tr>\n",
       "  </tbody>\n",
       "</table>\n",
       "<p>5 rows × 39 columns</p>\n",
       "</div>"
      ],
      "text/plain": [
       "                 title  year movie_rate runtime                      genre  \\\n",
       "0            Gladiator  2000          R     155   Action, Adventure, Drama   \n",
       "1              Memento  2000          R     113          Mystery, Thriller   \n",
       "2               Snatch  2000          R     104              Comedy, Crime   \n",
       "3  Requiem for a Dream  2000          R     102                      Drama   \n",
       "4                X-Men  2000      PG-13     104  Action, Adventure, Sci-Fi   \n",
       "\n",
       "  rating metascore                                        description  \\\n",
       "0    8.5        67  A former Roman General sets out to exact venge...   \n",
       "1    8.4        80  A man with short-term memory loss attempts to ...   \n",
       "2    8.3         0  Unscrupulous boxing promoters, violent bookmak...   \n",
       "3    8.3        68  The drug-induced utopias of four Coney Island ...   \n",
       "4    7.4        64  In a world where mutants (evolved super-powere...   \n",
       "\n",
       "           directors                                             starts  ...  \\\n",
       "0       Ridley Scott  Russell Crowe+Joaquin Phoenix+Connie Nielsen+O...  ...   \n",
       "1  Christopher Nolan  Guy Pearce+Carrie-Anne Moss+Joe Pantoliano+Mar...  ...   \n",
       "2        Guy Ritchie  Jason Statham+Brad Pitt+Stephen Graham+Vinnie ...  ...   \n",
       "3   Darren Aronofsky  Ellen Burstyn+Jared Leto+Jennifer Connelly+Mar...  ...   \n",
       "4       Bryan Singer  Patrick Stewart+Hugh Jackman+Ian McKellen+Famk...  ...   \n",
       "\n",
       "  News Reality-TV  Romance  Sci-Fi  Short  Sport  Talk-Show  Thriller  War  \\\n",
       "0    0          0        0       0      0      0          0         0    0   \n",
       "1    0          0        0       0      0      0          0         1    0   \n",
       "2    0          0        0       0      0      0          0         0    0   \n",
       "3    0          0        0       0      0      0          0         0    0   \n",
       "4    0          0        0       1      0      0          0         0    0   \n",
       "\n",
       "   Western  \n",
       "0        0  \n",
       "1        0  \n",
       "2        0  \n",
       "3        0  \n",
       "4        0  \n",
       "\n",
       "[5 rows x 39 columns]"
      ]
     },
     "execution_count": 9,
     "metadata": {},
     "output_type": "execute_result"
    }
   ],
   "source": [
    "movie_corpus.head()"
   ]
  },
  {
   "cell_type": "code",
   "execution_count": 10,
   "metadata": {},
   "outputs": [
    {
     "data": {
      "text/html": [
       "<div>\n",
       "<style scoped>\n",
       "    .dataframe tbody tr th:only-of-type {\n",
       "        vertical-align: middle;\n",
       "    }\n",
       "\n",
       "    .dataframe tbody tr th {\n",
       "        vertical-align: top;\n",
       "    }\n",
       "\n",
       "    .dataframe thead th {\n",
       "        text-align: right;\n",
       "    }\n",
       "</style>\n",
       "<table border=\"1\" class=\"dataframe\">\n",
       "  <thead>\n",
       "    <tr style=\"text-align: right;\">\n",
       "      <th></th>\n",
       "      <th>gross</th>\n",
       "    </tr>\n",
       "  </thead>\n",
       "  <tbody>\n",
       "    <tr>\n",
       "      <th>0</th>\n",
       "      <td>187.71</td>\n",
       "    </tr>\n",
       "    <tr>\n",
       "      <th>1</th>\n",
       "      <td>25.54</td>\n",
       "    </tr>\n",
       "    <tr>\n",
       "      <th>2</th>\n",
       "      <td>30.33</td>\n",
       "    </tr>\n",
       "    <tr>\n",
       "      <th>3</th>\n",
       "      <td>3.64</td>\n",
       "    </tr>\n",
       "    <tr>\n",
       "      <th>4</th>\n",
       "      <td>157.30</td>\n",
       "    </tr>\n",
       "    <tr>\n",
       "      <th>...</th>\n",
       "      <td>...</td>\n",
       "    </tr>\n",
       "    <tr>\n",
       "      <th>88044</th>\n",
       "      <td></td>\n",
       "    </tr>\n",
       "    <tr>\n",
       "      <th>88045</th>\n",
       "      <td></td>\n",
       "    </tr>\n",
       "    <tr>\n",
       "      <th>88046</th>\n",
       "      <td></td>\n",
       "    </tr>\n",
       "    <tr>\n",
       "      <th>88047</th>\n",
       "      <td></td>\n",
       "    </tr>\n",
       "    <tr>\n",
       "      <th>88048</th>\n",
       "      <td></td>\n",
       "    </tr>\n",
       "  </tbody>\n",
       "</table>\n",
       "<p>88049 rows × 1 columns</p>\n",
       "</div>"
      ],
      "text/plain": [
       "        gross\n",
       "0      187.71\n",
       "1       25.54\n",
       "2       30.33\n",
       "3        3.64\n",
       "4      157.30\n",
       "...       ...\n",
       "88044        \n",
       "88045        \n",
       "88046        \n",
       "88047        \n",
       "88048        \n",
       "\n",
       "[88049 rows x 1 columns]"
      ]
     },
     "execution_count": 10,
     "metadata": {},
     "output_type": "execute_result"
    }
   ],
   "source": [
    "movie_corpus[['gross']]"
   ]
  },
  {
   "cell_type": "markdown",
   "metadata": {},
   "source": [
    "### Store processed data into csv"
   ]
  },
  {
   "cell_type": "code",
   "execution_count": null,
   "metadata": {},
   "outputs": [],
   "source": [
    "movie_corpus.to_csv('imdb_movie_corpus.csv', sep='|')"
   ]
  },
  {
   "cell_type": "markdown",
   "metadata": {},
   "source": [
    "### Shortcut + Refresh"
   ]
  },
  {
   "cell_type": "code",
   "execution_count": null,
   "metadata": {},
   "outputs": [],
   "source": [
    "if 'movie_corpus' not in dir():\n",
    "    import pandas as pd\n",
    "    \n",
    "    movie_corpus = pd.read_csv('imdb_movie_corpus.csv', sep='|')\n",
    "    movie_genre = movie_genre_extraction(movie_corpus)"
   ]
  },
  {
   "cell_type": "markdown",
   "metadata": {},
   "source": [
    "### EDA"
   ]
  },
  {
   "cell_type": "code",
   "execution_count": 11,
   "metadata": {},
   "outputs": [],
   "source": [
    "import matplotlib.pyplot as plt\n",
    "import seaborn as sns"
   ]
  },
  {
   "cell_type": "code",
   "execution_count": 12,
   "metadata": {},
   "outputs": [
    {
     "data": {
      "text/html": [
       "<div>\n",
       "<style scoped>\n",
       "    .dataframe tbody tr th:only-of-type {\n",
       "        vertical-align: middle;\n",
       "    }\n",
       "\n",
       "    .dataframe tbody tr th {\n",
       "        vertical-align: top;\n",
       "    }\n",
       "\n",
       "    .dataframe thead th {\n",
       "        text-align: right;\n",
       "    }\n",
       "</style>\n",
       "<table border=\"1\" class=\"dataframe\">\n",
       "  <thead>\n",
       "    <tr style=\"text-align: right;\">\n",
       "      <th>index</th>\n",
       "      <th>Action</th>\n",
       "      <th>Adult</th>\n",
       "      <th>Adventure</th>\n",
       "      <th>Animation</th>\n",
       "      <th>Biography</th>\n",
       "      <th>Comedy</th>\n",
       "      <th>Crime</th>\n",
       "      <th>Documentary</th>\n",
       "      <th>Drama</th>\n",
       "      <th>Family</th>\n",
       "      <th>...</th>\n",
       "      <th>News</th>\n",
       "      <th>Reality-TV</th>\n",
       "      <th>Romance</th>\n",
       "      <th>Sci-Fi</th>\n",
       "      <th>Short</th>\n",
       "      <th>Sport</th>\n",
       "      <th>Talk-Show</th>\n",
       "      <th>Thriller</th>\n",
       "      <th>War</th>\n",
       "      <th>Western</th>\n",
       "    </tr>\n",
       "  </thead>\n",
       "  <tbody>\n",
       "    <tr>\n",
       "      <th>count</th>\n",
       "      <td>5214</td>\n",
       "      <td>1</td>\n",
       "      <td>4678</td>\n",
       "      <td>5278</td>\n",
       "      <td>950</td>\n",
       "      <td>18328</td>\n",
       "      <td>4082</td>\n",
       "      <td>9129</td>\n",
       "      <td>26719</td>\n",
       "      <td>8383</td>\n",
       "      <td>...</td>\n",
       "      <td>6051</td>\n",
       "      <td>2311</td>\n",
       "      <td>9965</td>\n",
       "      <td>1048</td>\n",
       "      <td>6767</td>\n",
       "      <td>2020</td>\n",
       "      <td>7782</td>\n",
       "      <td>1061</td>\n",
       "      <td>172</td>\n",
       "      <td>45</td>\n",
       "    </tr>\n",
       "  </tbody>\n",
       "</table>\n",
       "<p>1 rows × 27 columns</p>\n",
       "</div>"
      ],
      "text/plain": [
       "index  Action  Adult  Adventure  Animation  Biography  Comedy  Crime  \\\n",
       "count    5214      1       4678       5278        950   18328   4082   \n",
       "\n",
       "index  Documentary  Drama  Family  ...  News  Reality-TV  Romance  Sci-Fi  \\\n",
       "count         9129  26719    8383  ...  6051        2311     9965    1048   \n",
       "\n",
       "index  Short  Sport  Talk-Show  Thriller  War  Western  \n",
       "count   6767   2020       7782      1061  172       45  \n",
       "\n",
       "[1 rows x 27 columns]"
      ]
     },
     "execution_count": 12,
     "metadata": {},
     "output_type": "execute_result"
    }
   ],
   "source": [
    "movie_genre_count = movie_corpus[movie_genre].T.sum(axis=1).reset_index()\n",
    "movie_genre_count.set_index('index', inplace=True)\n",
    "movie_genre_count['count'] = movie_genre_count[0]\n",
    "del movie_genre_count[0]\n",
    "\n",
    "movie_genre_count = movie_genre_count.T\n",
    "movie_genre_count"
   ]
  },
  {
   "cell_type": "code",
   "execution_count": 13,
   "metadata": {},
   "outputs": [
    {
     "data": {
      "image/png": "[encoded data removed]",
      "text/plain": [
       "<Figure size 1080x720 with 1 Axes>"
      ]
     },
     "metadata": {
      "needs_background": "light"
     },
     "output_type": "display_data"
    }
   ],
   "source": [
    "plt.figure(figsize=(15, 10))\n",
    "ax = sns.barplot(\n",
    "    palette=sns.color_palette(), \n",
    "    edgecolor='.8', \n",
    "    data=movie_genre_count,\n",
    "    orient='h'\n",
    ")\n",
    "ax.set(xlabel='Count', ylabel='Movie Genres')\n",
    "\n",
    "\n",
    "plt.show()"
   ]
  },
  {
   "cell_type": "markdown",
   "metadata": {},
   "source": [
    "## Text Analytics"
   ]
  },
  {
   "cell_type": "code",
   "execution_count": 14,
   "metadata": {},
   "outputs": [],
   "source": [
    "import nltk\n",
    "from nltk.corpus import stopwords"
   ]
  },
  {
   "cell_type": "markdown",
   "metadata": {},
   "source": [
    "### Download stopwords (Required at first run)"
   ]
  },
  {
   "cell_type": "code",
   "execution_count": null,
   "metadata": {},
   "outputs": [],
   "source": [
    "import ssl"
   ]
  },
  {
   "cell_type": "code",
   "execution_count": null,
   "metadata": {},
   "outputs": [],
   "source": [
    "try:\n",
    "    _create_unverified_https_context = ssl._create_unverified_context\n",
    "except AttributeError:\n",
    "    pass\n",
    "else:\n",
    "    ssl._create_default_https_context = _create_unverified_https_context\n",
    "\n",
    "nltk.download()"
   ]
  },
  {
   "cell_type": "markdown",
   "metadata": {},
   "source": [
    "Dialog below will be shown after cell aboved was executed. All downloaded resource store in `~/nltk_data`\n",
    "\n",
    "<center><img src=\"./img/nltk-package.png\" /></center>"
   ]
  },
  {
   "cell_type": "markdown",
   "metadata": {},
   "source": [
    "<center><img src=\"./img/nltk-package-downloaded.png\" /></center>"
   ]
  },
  {
   "cell_type": "code",
   "execution_count": 15,
   "metadata": {},
   "outputs": [
    {
     "name": "stdout",
     "output_type": "stream",
     "text": [
      "['i', 'me', 'my', 'myself', 'we', 'our', 'ours', 'ourselves', 'you', \"you're\", \"you've\", \"you'll\", \"you'd\", 'your', 'yours', 'yourself', 'yourselves', 'he', 'him', 'his', 'himself', 'she', \"she's\", 'her', 'hers', 'herself', 'it', \"it's\", 'its', 'itself', 'they', 'them', 'their', 'theirs', 'themselves', 'what', 'which', 'who', 'whom', 'this', 'that', \"that'll\", 'these', 'those', 'am', 'is', 'are', 'was', 'were', 'be', 'been', 'being', 'have', 'has', 'had', 'having', 'do', 'does', 'did', 'doing', 'a', 'an', 'the', 'and', 'but', 'if', 'or', 'because', 'as', 'until', 'while', 'of', 'at', 'by', 'for', 'with', 'about', 'against', 'between', 'into', 'through', 'during', 'before', 'after', 'above', 'below', 'to', 'from', 'up', 'down', 'in', 'out', 'on', 'off', 'over', 'under', 'again', 'further', 'then', 'once', 'here', 'there', 'when', 'where', 'why', 'how', 'all', 'any', 'both', 'each', 'few', 'more', 'most', 'other', 'some', 'such', 'no', 'nor', 'not', 'only', 'own', 'same', 'so', 'than', 'too', 'very', 's', 't', 'can', 'will', 'just', 'don', \"don't\", 'should', \"should've\", 'now', 'd', 'll', 'm', 'o', 're', 've', 'y', 'ain', 'aren', \"aren't\", 'couldn', \"couldn't\", 'didn', \"didn't\", 'doesn', \"doesn't\", 'hadn', \"hadn't\", 'hasn', \"hasn't\", 'haven', \"haven't\", 'isn', \"isn't\", 'ma', 'mightn', \"mightn't\", 'mustn', \"mustn't\", 'needn', \"needn't\", 'shan', \"shan't\", 'shouldn', \"shouldn't\", 'wasn', \"wasn't\", 'weren', \"weren't\", 'won', \"won't\", 'wouldn', \"wouldn't\"]\n"
     ]
    }
   ],
   "source": [
    "print(stopwords.words('english'))"
   ]
  },
  {
   "cell_type": "markdown",
   "metadata": {},
   "source": [
    "### NLP Example"
   ]
  },
  {
   "cell_type": "markdown",
   "metadata": {},
   "source": [
    "Objective: We need to tokenized movies description we collected from IMDB with task\n",
    "\n",
    "- [ ] Remove all special characters such as `,`, `.` or `;` even numbers from description\n",
    "- [ ] Tokenize movie description\n",
    "- [ ] Count tokens' frequency\n",
    "- [ ] Convert to lower characters\n",
    "- [ ] Remove stop words"
   ]
  },
  {
   "cell_type": "markdown",
   "metadata": {},
   "source": [
    "### Experiment process"
   ]
  },
  {
   "cell_type": "code",
   "execution_count": 16,
   "metadata": {},
   "outputs": [
    {
     "data": {
      "text/plain": [
       "'A former Roman General sets out to exact vengeance against the corrupt emperor who murdered his family and sent him into slavery.'"
      ]
     },
     "execution_count": 16,
     "metadata": {},
     "output_type": "execute_result"
    }
   ],
   "source": [
    "# Example\n",
    "movie_corpus.description[0]"
   ]
  },
  {
   "cell_type": "code",
   "execution_count": 17,
   "metadata": {},
   "outputs": [],
   "source": [
    "import re"
   ]
  },
  {
   "cell_type": "code",
   "execution_count": 18,
   "metadata": {},
   "outputs": [
    {
     "data": {
      "text/plain": [
       "'a former roman general sets out to exact vengeance against the corrupt emperor who murdered his family and sent him into slavery'"
      ]
     },
     "execution_count": 18,
     "metadata": {},
     "output_type": "execute_result"
    }
   ],
   "source": [
    "sentence = re.sub('[^A-Za-z ]+', '', movie_corpus.description[0].lower())\n",
    "sentence"
   ]
  },
  {
   "cell_type": "code",
   "execution_count": 19,
   "metadata": {},
   "outputs": [
    {
     "data": {
      "text/plain": [
       "['a',\n",
       " 'former',\n",
       " 'roman',\n",
       " 'general',\n",
       " 'sets',\n",
       " 'out',\n",
       " 'to',\n",
       " 'exact',\n",
       " 'vengeance',\n",
       " 'against',\n",
       " 'the',\n",
       " 'corrupt',\n",
       " 'emperor',\n",
       " 'who',\n",
       " 'murdered',\n",
       " 'his',\n",
       " 'family',\n",
       " 'and',\n",
       " 'sent',\n",
       " 'him',\n",
       " 'into',\n",
       " 'slavery']"
      ]
     },
     "execution_count": 19,
     "metadata": {},
     "output_type": "execute_result"
    }
   ],
   "source": [
    "tokenized = sentence.split()\n",
    "tokenized"
   ]
  },
  {
   "cell_type": "code",
   "execution_count": 20,
   "metadata": {},
   "outputs": [],
   "source": [
    "from collections import Counter"
   ]
  },
  {
   "cell_type": "code",
   "execution_count": 21,
   "metadata": {},
   "outputs": [
    {
     "data": {
      "text/plain": [
       "Counter({'a': 1,\n",
       "         'former': 1,\n",
       "         'roman': 1,\n",
       "         'general': 1,\n",
       "         'sets': 1,\n",
       "         'out': 1,\n",
       "         'to': 1,\n",
       "         'exact': 1,\n",
       "         'vengeance': 1,\n",
       "         'against': 1,\n",
       "         'the': 1,\n",
       "         'corrupt': 1,\n",
       "         'emperor': 1,\n",
       "         'who': 1,\n",
       "         'murdered': 1,\n",
       "         'his': 1,\n",
       "         'family': 1,\n",
       "         'and': 1,\n",
       "         'sent': 1,\n",
       "         'him': 1,\n",
       "         'into': 1,\n",
       "         'slavery': 1})"
      ]
     },
     "execution_count": 21,
     "metadata": {},
     "output_type": "execute_result"
    }
   ],
   "source": [
    "tf = Counter(tokenized)\n",
    "tf"
   ]
  },
  {
   "cell_type": "code",
   "execution_count": 22,
   "metadata": {},
   "outputs": [
    {
     "data": {
      "text/plain": [
       "{'a',\n",
       " 'against',\n",
       " 'and',\n",
       " 'corrupt',\n",
       " 'emperor',\n",
       " 'exact',\n",
       " 'family',\n",
       " 'former',\n",
       " 'general',\n",
       " 'him',\n",
       " 'his',\n",
       " 'into',\n",
       " 'murdered',\n",
       " 'out',\n",
       " 'roman',\n",
       " 'sent',\n",
       " 'sets',\n",
       " 'slavery',\n",
       " 'the',\n",
       " 'to',\n",
       " 'vengeance',\n",
       " 'who'}"
      ]
     },
     "execution_count": 22,
     "metadata": {},
     "output_type": "execute_result"
    }
   ],
   "source": [
    "tokenized_set = set(tokenized)\n",
    "tokenized_set"
   ]
  },
  {
   "cell_type": "markdown",
   "metadata": {},
   "source": [
    "### Remove all stopwords"
   ]
  },
  {
   "cell_type": "code",
   "execution_count": 23,
   "metadata": {},
   "outputs": [],
   "source": [
    "english_stopwords = frozenset(stopwords.words('english'))"
   ]
  },
  {
   "cell_type": "code",
   "execution_count": 24,
   "metadata": {},
   "outputs": [
    {
     "data": {
      "text/plain": [
       "{'corrupt',\n",
       " 'emperor',\n",
       " 'exact',\n",
       " 'family',\n",
       " 'former',\n",
       " 'general',\n",
       " 'murdered',\n",
       " 'roman',\n",
       " 'sent',\n",
       " 'sets',\n",
       " 'slavery',\n",
       " 'vengeance'}"
      ]
     },
     "execution_count": 24,
     "metadata": {},
     "output_type": "execute_result"
    }
   ],
   "source": [
    "remaining = tokenized_set - english_stopwords\n",
    "remaining"
   ]
  },
  {
   "cell_type": "code",
   "execution_count": null,
   "metadata": {},
   "outputs": [],
   "source": [
    "class classification(object):\n",
    "    def __init__(self, f):\n",
    "        self.f = f\n",
    "        \n",
    "    def __call__(self):\n",
    "        self.f()"
   ]
  },
  {
   "cell_type": "code",
   "execution_count": null,
   "metadata": {},
   "outputs": [],
   "source": [
    "def text_tokenize(description) -> str:\n",
    "    import re\n",
    "    return re.sub('[^A-Za-z ]+', '', description.lower())\n",
    "\n",
    "def counting(description, stopwords=None):\n",
    "    if None == stopwords:\n",
    "        from nltk import stopwords\n",
    "        stopwords = frozenset(stopwords.words('english'))"
   ]
  }
 ],
 "metadata": {
  "kernelspec": {
   "display_name": "TextClassification",
   "language": "python",
   "name": "textclassification"
  },
  "language_info": {
   "codemirror_mode": {
    "name": "ipython",
    "version": 3
   },
   "file_extension": ".py",
   "mimetype": "text/x-python",
   "name": "python",
   "nbconvert_exporter": "python",
   "pygments_lexer": "ipython3",
   "version": "3.7.4"
  }
 },
 "nbformat": 4,
 "nbformat_minor": 4
}
