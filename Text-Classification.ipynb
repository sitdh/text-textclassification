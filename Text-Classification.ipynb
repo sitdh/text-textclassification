{
 "cells": [
  {
   "cell_type": "markdown",
   "metadata": {},
   "source": [
    "# Text Classification with IMDB Movie's description"
   ]
  },
  {
   "cell_type": "markdown",
   "metadata": {},
   "source": [
    "<center><img src=\"./img/homepage.png\" style=\"max-height: 400px; max-width: auto;\"/></center>"
   ]
  },
  {
   "cell_type": "markdown",
   "metadata": {},
   "source": [
    "## IMDB Web Scraping"
   ]
  },
  {
   "cell_type": "markdown",
   "metadata": {},
   "source": [
    "For more information please open "
   ]
  },
  {
   "cell_type": "markdown",
   "metadata": {},
   "source": [
    "## Data Preprocessing"
   ]
  },
  {
   "cell_type": "markdown",
   "metadata": {},
   "source": [
    "### Import Library"
   ]
  },
  {
   "cell_type": "code",
   "execution_count": 114,
   "metadata": {},
   "outputs": [],
   "source": [
    "import numpy as np\n",
    "import pandas as pd\n",
    "from sklearn.model_selection import train_test_split\n",
    "import csv, re, random"
   ]
  },
  {
   "cell_type": "code",
   "execution_count": 33,
   "metadata": {},
   "outputs": [],
   "source": [
    "corpus_file = 'movie_corpus.csv'"
   ]
  },
  {
   "cell_type": "code",
   "execution_count": 34,
   "metadata": {},
   "outputs": [],
   "source": [
    "value_reduced = lambda x: x if None != x and len(str(x)) > 0 else None"
   ]
  },
  {
   "cell_type": "code",
   "execution_count": 166,
   "metadata": {},
   "outputs": [],
   "source": [
    "dataset = []\n",
    "with open(corpus_file) as f:\n",
    "    movie_corpus_reader = csv.DictReader(f, delimiter='|')\n",
    "    fields = movie_corpus_reader.fieldnames\n",
    "    \n",
    "    for movie in movie_corpus_reader:\n",
    "        if movie['genre'] in (\"\", None) or 0 == len(movie['genre']):\n",
    "            continue\n",
    "            \n",
    "        movie['year'] = str(movie['year']) if str(movie['year']).isnumeric() and 4 == len(str(movie['year'])) else None\n",
    "        movie = {k: value_reduced(v) for k,v in movie.items() if 'metascore' != k}\n",
    "        dataset.append(movie)\n",
    "        "
   ]
  },
  {
   "cell_type": "markdown",
   "metadata": {},
   "source": [
    "### Split dataset"
   ]
  },
  {
   "cell_type": "code",
   "execution_count": 123,
   "metadata": {},
   "outputs": [],
   "source": [
    "# random_seed = int(random.random() * 1e+10)\n",
    "random_seed = 2958053999"
   ]
  },
  {
   "cell_type": "code",
   "execution_count": 181,
   "metadata": {},
   "outputs": [],
   "source": [
    "train_dataset, test_dataset = train_test_split(\n",
    "    dataset,\n",
    "    random_state=random_seed,\n",
    "    shuffle=True\n",
    ")\n",
    "\n",
    "stratisfy_train = {'genre': [m['genre'] for m in train_dataset]}\n",
    "stratisfy_test = {'genre': [m['genre'] for m in test_dataset]}"
   ]
  },
  {
   "cell_type": "code",
   "execution_count": 182,
   "metadata": {},
   "outputs": [
    {
     "data": {
      "text/plain": [
       "{'title': 'Order Up 2020',\n",
       " 'year': '2021',\n",
       " 'movie_rate': None,\n",
       " 'runtime': None,\n",
       " 'genre': 'Comedy',\n",
       " 'rating': None,\n",
       " 'description': None,\n",
       " 'directors': 'Gregory Bazile',\n",
       " 'starts': 'Gregory Bazile+Dendreekius Deal+Myson Deal+Oneshia Edens'}"
      ]
     },
     "execution_count": 182,
     "metadata": {},
     "output_type": "execute_result"
    }
   ],
   "source": [
    "train_dataset[2]"
   ]
  },
  {
   "cell_type": "code",
   "execution_count": 183,
   "metadata": {},
   "outputs": [],
   "source": [
    "X_train = pd.DataFrame(train_dataset)\n",
    "y_train = pd.DataFrame(stratisfy_train)\n",
    "\n",
    "X_test = pd.DataFrame(test_dataset)\n",
    "y_test = pd.DataFrame(stratisfy_test)"
   ]
  },
  {
   "cell_type": "code",
   "execution_count": 170,
   "metadata": {},
   "outputs": [
    {
     "data": {
      "text/html": [
       "<div>\n",
       "<style scoped>\n",
       "    .dataframe tbody tr th:only-of-type {\n",
       "        vertical-align: middle;\n",
       "    }\n",
       "\n",
       "    .dataframe tbody tr th {\n",
       "        vertical-align: top;\n",
       "    }\n",
       "\n",
       "    .dataframe thead th {\n",
       "        text-align: right;\n",
       "    }\n",
       "</style>\n",
       "<table border=\"1\" class=\"dataframe\">\n",
       "  <thead>\n",
       "    <tr style=\"text-align: right;\">\n",
       "      <th></th>\n",
       "      <th>title</th>\n",
       "      <th>year</th>\n",
       "      <th>movie_rate</th>\n",
       "      <th>runtime</th>\n",
       "      <th>genre</th>\n",
       "      <th>rating</th>\n",
       "      <th>description</th>\n",
       "      <th>directors</th>\n",
       "      <th>starts</th>\n",
       "    </tr>\n",
       "  </thead>\n",
       "  <tbody>\n",
       "    <tr>\n",
       "      <th>92827</th>\n",
       "      <td>'Di ko kayang tanggapin</td>\n",
       "      <td>2000</td>\n",
       "      <td>None</td>\n",
       "      <td>102</td>\n",
       "      <td>Comedy, Romance</td>\n",
       "      <td>6.4</td>\n",
       "      <td>None</td>\n",
       "      <td>Willy Milan</td>\n",
       "      <td>April Boy Regino+Ciara Sotto+Manilyn Reynes+Ma...</td>\n",
       "    </tr>\n",
       "    <tr>\n",
       "      <th>65496</th>\n",
       "      <td>'Kurenai no kenjû' yo eien ni</td>\n",
       "      <td>2000</td>\n",
       "      <td>None</td>\n",
       "      <td>97</td>\n",
       "      <td>Drama</td>\n",
       "      <td>None</td>\n",
       "      <td>None</td>\n",
       "      <td>Katsuji Kanazawa+Yoshiko Oikawa</td>\n",
       "      <td>Mayumi Dobashi+Hiroshi Fuse+Manabu Hamada+Yuka...</td>\n",
       "    </tr>\n",
       "    <tr>\n",
       "      <th>6886</th>\n",
       "      <td>(I'm Living) A Charmed Life</td>\n",
       "      <td>2000</td>\n",
       "      <td>None</td>\n",
       "      <td>65</td>\n",
       "      <td>Comedy</td>\n",
       "      <td>5.8</td>\n",
       "      <td>In Maine, Duffy prepares for the arrival of Lu...</td>\n",
       "      <td>Betsy Carson+Kate Kaminski</td>\n",
       "      <td>Tameson Duffy+Buffy Miller+Scott Mullenberg</td>\n",
       "    </tr>\n",
       "    <tr>\n",
       "      <th>60897</th>\n",
       "      <td>...und das ist erst der Anfang</td>\n",
       "      <td>2000</td>\n",
       "      <td>None</td>\n",
       "      <td>95</td>\n",
       "      <td>Comedy, Romance</td>\n",
       "      <td>5.4</td>\n",
       "      <td>The pretty Anna multiplies the romantic advent...</td>\n",
       "      <td>Pierre Franckh</td>\n",
       "      <td>Julia Richter+René Hofschneider+Dieter Landuri...</td>\n",
       "    </tr>\n",
       "    <tr>\n",
       "      <th>85006</th>\n",
       "      <td>1 shûkan aiyoku nikki</td>\n",
       "      <td>2000</td>\n",
       "      <td>None</td>\n",
       "      <td>62</td>\n",
       "      <td>Drama</td>\n",
       "      <td>None</td>\n",
       "      <td>None</td>\n",
       "      <td>Masahiro Kobayashi</td>\n",
       "      <td>Hotaru Hazuki+Yôta Kawase</td>\n",
       "    </tr>\n",
       "  </tbody>\n",
       "</table>\n",
       "</div>"
      ],
      "text/plain": [
       "                                title  year movie_rate runtime  \\\n",
       "92827         'Di ko kayang tanggapin  2000       None     102   \n",
       "65496   'Kurenai no kenjû' yo eien ni  2000       None      97   \n",
       "6886      (I'm Living) A Charmed Life  2000       None      65   \n",
       "60897  ...und das ist erst der Anfang  2000       None      95   \n",
       "85006           1 shûkan aiyoku nikki  2000       None      62   \n",
       "\n",
       "                 genre rating  \\\n",
       "92827  Comedy, Romance    6.4   \n",
       "65496            Drama   None   \n",
       "6886            Comedy    5.8   \n",
       "60897  Comedy, Romance    5.4   \n",
       "85006            Drama   None   \n",
       "\n",
       "                                             description  \\\n",
       "92827                                               None   \n",
       "65496                                               None   \n",
       "6886   In Maine, Duffy prepares for the arrival of Lu...   \n",
       "60897  The pretty Anna multiplies the romantic advent...   \n",
       "85006                                               None   \n",
       "\n",
       "                             directors  \\\n",
       "92827                      Willy Milan   \n",
       "65496  Katsuji Kanazawa+Yoshiko Oikawa   \n",
       "6886        Betsy Carson+Kate Kaminski   \n",
       "60897                   Pierre Franckh   \n",
       "85006               Masahiro Kobayashi   \n",
       "\n",
       "                                                  starts  \n",
       "92827  April Boy Regino+Ciara Sotto+Manilyn Reynes+Ma...  \n",
       "65496  Mayumi Dobashi+Hiroshi Fuse+Manabu Hamada+Yuka...  \n",
       "6886         Tameson Duffy+Buffy Miller+Scott Mullenberg  \n",
       "60897  Julia Richter+René Hofschneider+Dieter Landuri...  \n",
       "85006                          Hotaru Hazuki+Yôta Kawase  "
      ]
     },
     "execution_count": 170,
     "metadata": {},
     "output_type": "execute_result"
    }
   ],
   "source": [
    "movie_corpus.head()"
   ]
  },
  {
   "cell_type": "code",
   "execution_count": 171,
   "metadata": {},
   "outputs": [
    {
     "data": {
      "text/html": [
       "<div>\n",
       "<style scoped>\n",
       "    .dataframe tbody tr th:only-of-type {\n",
       "        vertical-align: middle;\n",
       "    }\n",
       "\n",
       "    .dataframe tbody tr th {\n",
       "        vertical-align: top;\n",
       "    }\n",
       "\n",
       "    .dataframe thead th {\n",
       "        text-align: right;\n",
       "    }\n",
       "</style>\n",
       "<table border=\"1\" class=\"dataframe\">\n",
       "  <thead>\n",
       "    <tr style=\"text-align: right;\">\n",
       "      <th></th>\n",
       "      <th>genre</th>\n",
       "    </tr>\n",
       "  </thead>\n",
       "  <tbody>\n",
       "    <tr>\n",
       "      <th>92827</th>\n",
       "      <td>Comedy, Romance</td>\n",
       "    </tr>\n",
       "    <tr>\n",
       "      <th>65496</th>\n",
       "      <td>Drama</td>\n",
       "    </tr>\n",
       "    <tr>\n",
       "      <th>6886</th>\n",
       "      <td>Comedy</td>\n",
       "    </tr>\n",
       "    <tr>\n",
       "      <th>60897</th>\n",
       "      <td>Comedy, Romance</td>\n",
       "    </tr>\n",
       "    <tr>\n",
       "      <th>85006</th>\n",
       "      <td>Drama</td>\n",
       "    </tr>\n",
       "    <tr>\n",
       "      <th>...</th>\n",
       "      <td>...</td>\n",
       "    </tr>\n",
       "    <tr>\n",
       "      <th>47599</th>\n",
       "      <td>Action, Drama, Thriller</td>\n",
       "    </tr>\n",
       "    <tr>\n",
       "      <th>118541</th>\n",
       "      <td>Horror</td>\n",
       "    </tr>\n",
       "    <tr>\n",
       "      <th>90611</th>\n",
       "      <td>Drama</td>\n",
       "    </tr>\n",
       "    <tr>\n",
       "      <th>36642</th>\n",
       "      <td>Drama</td>\n",
       "    </tr>\n",
       "    <tr>\n",
       "      <th>86244</th>\n",
       "      <td>Action, Drama, Romance</td>\n",
       "    </tr>\n",
       "  </tbody>\n",
       "</table>\n",
       "<p>123432 rows × 1 columns</p>\n",
       "</div>"
      ],
      "text/plain": [
       "                          genre\n",
       "92827           Comedy, Romance\n",
       "65496                     Drama\n",
       "6886                     Comedy\n",
       "60897           Comedy, Romance\n",
       "85006                     Drama\n",
       "...                         ...\n",
       "47599   Action, Drama, Thriller\n",
       "118541                   Horror\n",
       "90611                     Drama\n",
       "36642                     Drama\n",
       "86244    Action, Drama, Romance\n",
       "\n",
       "[123432 rows x 1 columns]"
      ]
     },
     "execution_count": 171,
     "metadata": {},
     "output_type": "execute_result"
    }
   ],
   "source": [
    "movie_corpus[~movie_corpus.isna()][['genre']]"
   ]
  },
  {
   "cell_type": "markdown",
   "metadata": {},
   "source": [
    "### Extract movie's genre"
   ]
  },
  {
   "cell_type": "code",
   "execution_count": 131,
   "metadata": {
    "tags": [
     "movie_extract_func"
    ]
   },
   "outputs": [],
   "source": [
    "def movie_genre_extraction(corpus):\n",
    "\n",
    "    movie_genre = sorted(list(set([genre.strip() \n",
    "                  for genres in corpus[~corpus.genre.isna()]['genre'].tolist()\n",
    "                  for genre in genres.split(', ')])))\n",
    "    \n",
    "    return [k for k in movie_genre if len(k)]\n",
    "\n",
    "def update_for_genre(genre, corpus):\n",
    "    for genre in movie_genre:\n",
    "        corpus[genre] = corpus[~corpus.isna()]['genre'].apply(\n",
    "            lambda x: 1 if 'str' == type(x).__name__ and genre in x else 0\n",
    "        )\n",
    "    \n",
    "    return corpus\n",
    "\n",
    "def text_to_float(g):\n",
    "    \n",
    "    gross = 0\n",
    "\n",
    "    if 'float' == type(g).__name__:\n",
    "        gross = g\n",
    "        print(gross)\n",
    "    else:\n",
    "        gross = float(g.lower().replace('$', '').replace('m', ''))\n",
    "        \n",
    "    return gross\n",
    "\n",
    "def covert_gross(corpus):\n",
    "    return corpus['gross'][~corpus['gross'].isnull()].apply(text_to_float)"
   ]
  },
  {
   "cell_type": "code",
   "execution_count": 132,
   "metadata": {},
   "outputs": [],
   "source": [
    "movie_genre = movie_genre_extraction(movie_corpus)\n",
    "movie_corpus = update_for_genre(movie_genre, movie_corpus)"
   ]
  },
  {
   "cell_type": "code",
   "execution_count": 133,
   "metadata": {},
   "outputs": [
    {
     "data": {
      "text/plain": [
       "['Action',\n",
       " 'Adult',\n",
       " 'Adventure',\n",
       " 'Animation',\n",
       " 'Biography',\n",
       " 'Comedy',\n",
       " 'Crime',\n",
       " 'Drama',\n",
       " 'Family',\n",
       " 'Fantasy',\n",
       " 'Game-Show',\n",
       " 'History',\n",
       " 'Horror',\n",
       " 'Music',\n",
       " 'Musical',\n",
       " 'Mystery',\n",
       " 'News',\n",
       " 'Reality-TV',\n",
       " 'Romance',\n",
       " 'Sci-Fi',\n",
       " 'Sport',\n",
       " 'Talk-Show',\n",
       " 'Thriller',\n",
       " 'War',\n",
       " 'Western']"
      ]
     },
     "execution_count": 133,
     "metadata": {},
     "output_type": "execute_result"
    }
   ],
   "source": [
    "movie_genre"
   ]
  },
  {
   "cell_type": "code",
   "execution_count": 134,
   "metadata": {
    "scrolled": true
   },
   "outputs": [
    {
     "data": {
      "text/html": [
       "<div>\n",
       "<style scoped>\n",
       "    .dataframe tbody tr th:only-of-type {\n",
       "        vertical-align: middle;\n",
       "    }\n",
       "\n",
       "    .dataframe tbody tr th {\n",
       "        vertical-align: top;\n",
       "    }\n",
       "\n",
       "    .dataframe thead th {\n",
       "        text-align: right;\n",
       "    }\n",
       "</style>\n",
       "<table border=\"1\" class=\"dataframe\">\n",
       "  <thead>\n",
       "    <tr style=\"text-align: right;\">\n",
       "      <th></th>\n",
       "      <th>title</th>\n",
       "      <th>year</th>\n",
       "      <th>movie_rate</th>\n",
       "      <th>runtime</th>\n",
       "      <th>genre</th>\n",
       "      <th>rating</th>\n",
       "      <th>description</th>\n",
       "      <th>directors</th>\n",
       "      <th>starts</th>\n",
       "      <th>Action</th>\n",
       "      <th>...</th>\n",
       "      <th>Mystery</th>\n",
       "      <th>News</th>\n",
       "      <th>Reality-TV</th>\n",
       "      <th>Romance</th>\n",
       "      <th>Sci-Fi</th>\n",
       "      <th>Sport</th>\n",
       "      <th>Talk-Show</th>\n",
       "      <th>Thriller</th>\n",
       "      <th>War</th>\n",
       "      <th>Western</th>\n",
       "    </tr>\n",
       "  </thead>\n",
       "  <tbody>\n",
       "    <tr>\n",
       "      <th>59509</th>\n",
       "      <td>...Verzeihung, ich lebe</td>\n",
       "      <td>2000</td>\n",
       "      <td>None</td>\n",
       "      <td>81</td>\n",
       "      <td>None</td>\n",
       "      <td>None</td>\n",
       "      <td>None</td>\n",
       "      <td>Andrzej Klamt</td>\n",
       "      <td>None</td>\n",
       "      <td>0</td>\n",
       "      <td>...</td>\n",
       "      <td>0</td>\n",
       "      <td>0</td>\n",
       "      <td>0</td>\n",
       "      <td>0</td>\n",
       "      <td>0</td>\n",
       "      <td>0</td>\n",
       "      <td>0</td>\n",
       "      <td>0</td>\n",
       "      <td>0</td>\n",
       "      <td>0</td>\n",
       "    </tr>\n",
       "    <tr>\n",
       "      <th>52634</th>\n",
       "      <td>...und das ist erst der Anfang</td>\n",
       "      <td>2000</td>\n",
       "      <td>None</td>\n",
       "      <td>95</td>\n",
       "      <td>Comedy, Romance</td>\n",
       "      <td>5.4</td>\n",
       "      <td>The pretty Anna multiplies the romantic advent...</td>\n",
       "      <td>Pierre Franckh</td>\n",
       "      <td>Julia Richter+René Hofschneider+Dieter Landuri...</td>\n",
       "      <td>0</td>\n",
       "      <td>...</td>\n",
       "      <td>0</td>\n",
       "      <td>0</td>\n",
       "      <td>0</td>\n",
       "      <td>1</td>\n",
       "      <td>0</td>\n",
       "      <td>0</td>\n",
       "      <td>0</td>\n",
       "      <td>0</td>\n",
       "      <td>0</td>\n",
       "      <td>0</td>\n",
       "    </tr>\n",
       "    <tr>\n",
       "      <th>57198</th>\n",
       "      <td>01412 pasasingeum</td>\n",
       "      <td>2000</td>\n",
       "      <td>None</td>\n",
       "      <td>95</td>\n",
       "      <td>Action, Fantasy</td>\n",
       "      <td>5.2</td>\n",
       "      <td>A computer game leads the way to a world of fa...</td>\n",
       "      <td>Tae-chan Park</td>\n",
       "      <td>Yoo Ji-Tae+Yeong-jin Lee+Rang Ha+Eun-hye Park</td>\n",
       "      <td>1</td>\n",
       "      <td>...</td>\n",
       "      <td>0</td>\n",
       "      <td>0</td>\n",
       "      <td>0</td>\n",
       "      <td>0</td>\n",
       "      <td>0</td>\n",
       "      <td>0</td>\n",
       "      <td>0</td>\n",
       "      <td>0</td>\n",
       "      <td>0</td>\n",
       "      <td>0</td>\n",
       "    </tr>\n",
       "    <tr>\n",
       "      <th>70016</th>\n",
       "      <td>1 shûkan aiyoku nikki</td>\n",
       "      <td>2000</td>\n",
       "      <td>None</td>\n",
       "      <td>62</td>\n",
       "      <td>Drama</td>\n",
       "      <td>None</td>\n",
       "      <td>None</td>\n",
       "      <td>Masahiro Kobayashi</td>\n",
       "      <td>Hotaru Hazuki+Yôta Kawase</td>\n",
       "      <td>0</td>\n",
       "      <td>...</td>\n",
       "      <td>0</td>\n",
       "      <td>0</td>\n",
       "      <td>0</td>\n",
       "      <td>0</td>\n",
       "      <td>0</td>\n",
       "      <td>0</td>\n",
       "      <td>0</td>\n",
       "      <td>0</td>\n",
       "      <td>0</td>\n",
       "      <td>0</td>\n",
       "    </tr>\n",
       "    <tr>\n",
       "      <th>11624</th>\n",
       "      <td>100 Girls</td>\n",
       "      <td>2000</td>\n",
       "      <td>R</td>\n",
       "      <td>94</td>\n",
       "      <td>Comedy, Romance</td>\n",
       "      <td>5.8</td>\n",
       "      <td>Matt spends the night with a girl in an elevat...</td>\n",
       "      <td>Michael Davis</td>\n",
       "      <td>Jonathan Tucker+Emmanuelle Chriqui+James DeBel...</td>\n",
       "      <td>0</td>\n",
       "      <td>...</td>\n",
       "      <td>0</td>\n",
       "      <td>0</td>\n",
       "      <td>0</td>\n",
       "      <td>1</td>\n",
       "      <td>0</td>\n",
       "      <td>0</td>\n",
       "      <td>0</td>\n",
       "      <td>0</td>\n",
       "      <td>0</td>\n",
       "      <td>0</td>\n",
       "    </tr>\n",
       "  </tbody>\n",
       "</table>\n",
       "<p>5 rows × 34 columns</p>\n",
       "</div>"
      ],
      "text/plain": [
       "                                title  year movie_rate runtime  \\\n",
       "59509         ...Verzeihung, ich lebe  2000       None      81   \n",
       "52634  ...und das ist erst der Anfang  2000       None      95   \n",
       "57198               01412 pasasingeum  2000       None      95   \n",
       "70016           1 shûkan aiyoku nikki  2000       None      62   \n",
       "11624                       100 Girls  2000          R      94   \n",
       "\n",
       "                 genre rating  \\\n",
       "59509             None   None   \n",
       "52634  Comedy, Romance    5.4   \n",
       "57198  Action, Fantasy    5.2   \n",
       "70016            Drama   None   \n",
       "11624  Comedy, Romance    5.8   \n",
       "\n",
       "                                             description           directors  \\\n",
       "59509                                               None       Andrzej Klamt   \n",
       "52634  The pretty Anna multiplies the romantic advent...      Pierre Franckh   \n",
       "57198  A computer game leads the way to a world of fa...       Tae-chan Park   \n",
       "70016                                               None  Masahiro Kobayashi   \n",
       "11624  Matt spends the night with a girl in an elevat...       Michael Davis   \n",
       "\n",
       "                                                  starts  Action  ...  \\\n",
       "59509                                               None       0  ...   \n",
       "52634  Julia Richter+René Hofschneider+Dieter Landuri...       0  ...   \n",
       "57198      Yoo Ji-Tae+Yeong-jin Lee+Rang Ha+Eun-hye Park       1  ...   \n",
       "70016                          Hotaru Hazuki+Yôta Kawase       0  ...   \n",
       "11624  Jonathan Tucker+Emmanuelle Chriqui+James DeBel...       0  ...   \n",
       "\n",
       "       Mystery  News  Reality-TV  Romance  Sci-Fi  Sport  Talk-Show  Thriller  \\\n",
       "59509        0     0           0        0       0      0          0         0   \n",
       "52634        0     0           0        1       0      0          0         0   \n",
       "57198        0     0           0        0       0      0          0         0   \n",
       "70016        0     0           0        0       0      0          0         0   \n",
       "11624        0     0           0        1       0      0          0         0   \n",
       "\n",
       "       War  Western  \n",
       "59509    0        0  \n",
       "52634    0        0  \n",
       "57198    0        0  \n",
       "70016    0        0  \n",
       "11624    0        0  \n",
       "\n",
       "[5 rows x 34 columns]"
      ]
     },
     "execution_count": 134,
     "metadata": {},
     "output_type": "execute_result"
    }
   ],
   "source": [
    "movie_corpus.head()"
   ]
  },
  {
   "cell_type": "markdown",
   "metadata": {},
   "source": [
    "### Store processed data into csv"
   ]
  },
  {
   "cell_type": "code",
   "execution_count": 27,
   "metadata": {},
   "outputs": [],
   "source": [
    "movie_corpus.to_csv('imdb_movie_corpus.csv', sep='|')"
   ]
  },
  {
   "cell_type": "markdown",
   "metadata": {},
   "source": [
    "### Shortcut + Refresh"
   ]
  },
  {
   "cell_type": "code",
   "execution_count": null,
   "metadata": {},
   "outputs": [],
   "source": [
    "if 'movie_corpus' not in dir():\n",
    "    import pandas as pd\n",
    "    \n",
    "    movie_corpus = pd.read_csv('imdb_movie_corpus.csv', sep='|')\n",
    "    movie_genre = movie_genre_extraction(movie_corpus)"
   ]
  },
  {
   "cell_type": "markdown",
   "metadata": {},
   "source": [
    "### EDA"
   ]
  },
  {
   "cell_type": "code",
   "execution_count": 135,
   "metadata": {},
   "outputs": [],
   "source": [
    "import matplotlib.pyplot as plt\n",
    "import seaborn as sns"
   ]
  },
  {
   "cell_type": "code",
   "execution_count": 136,
   "metadata": {},
   "outputs": [
    {
     "data": {
      "text/html": [
       "<div>\n",
       "<style scoped>\n",
       "    .dataframe tbody tr th:only-of-type {\n",
       "        vertical-align: middle;\n",
       "    }\n",
       "\n",
       "    .dataframe tbody tr th {\n",
       "        vertical-align: top;\n",
       "    }\n",
       "\n",
       "    .dataframe thead th {\n",
       "        text-align: right;\n",
       "    }\n",
       "</style>\n",
       "<table border=\"1\" class=\"dataframe\">\n",
       "  <thead>\n",
       "    <tr style=\"text-align: right;\">\n",
       "      <th>index</th>\n",
       "      <th>Action</th>\n",
       "      <th>Adult</th>\n",
       "      <th>Adventure</th>\n",
       "      <th>Animation</th>\n",
       "      <th>Biography</th>\n",
       "      <th>Comedy</th>\n",
       "      <th>Crime</th>\n",
       "      <th>Drama</th>\n",
       "      <th>Family</th>\n",
       "      <th>Fantasy</th>\n",
       "      <th>...</th>\n",
       "      <th>Mystery</th>\n",
       "      <th>News</th>\n",
       "      <th>Reality-TV</th>\n",
       "      <th>Romance</th>\n",
       "      <th>Sci-Fi</th>\n",
       "      <th>Sport</th>\n",
       "      <th>Talk-Show</th>\n",
       "      <th>Thriller</th>\n",
       "      <th>War</th>\n",
       "      <th>Western</th>\n",
       "    </tr>\n",
       "  </thead>\n",
       "  <tbody>\n",
       "    <tr>\n",
       "      <th>count</th>\n",
       "      <td>13956</td>\n",
       "      <td>1</td>\n",
       "      <td>5881</td>\n",
       "      <td>3331</td>\n",
       "      <td>2439</td>\n",
       "      <td>32471</td>\n",
       "      <td>8959</td>\n",
       "      <td>64046</td>\n",
       "      <td>5395</td>\n",
       "      <td>4587</td>\n",
       "      <td>...</td>\n",
       "      <td>5790</td>\n",
       "      <td>57</td>\n",
       "      <td>243</td>\n",
       "      <td>13377</td>\n",
       "      <td>4030</td>\n",
       "      <td>1768</td>\n",
       "      <td>89</td>\n",
       "      <td>14866</td>\n",
       "      <td>1258</td>\n",
       "      <td>548</td>\n",
       "    </tr>\n",
       "  </tbody>\n",
       "</table>\n",
       "<p>1 rows × 25 columns</p>\n",
       "</div>"
      ],
      "text/plain": [
       "index  Action  Adult  Adventure  Animation  Biography  Comedy  Crime  Drama  \\\n",
       "count   13956      1       5881       3331       2439   32471   8959  64046   \n",
       "\n",
       "index  Family  Fantasy  ...  Mystery  News  Reality-TV  Romance  Sci-Fi  \\\n",
       "count    5395     4587  ...     5790    57         243    13377    4030   \n",
       "\n",
       "index  Sport  Talk-Show  Thriller   War  Western  \n",
       "count   1768         89     14866  1258      548  \n",
       "\n",
       "[1 rows x 25 columns]"
      ]
     },
     "execution_count": 136,
     "metadata": {},
     "output_type": "execute_result"
    }
   ],
   "source": [
    "movie_genre_count = movie_corpus[movie_genre].T.sum(axis=1).reset_index()\n",
    "movie_genre_count.set_index('index', inplace=True)\n",
    "movie_genre_count['count'] = movie_genre_count[0]\n",
    "del movie_genre_count[0]\n",
    "\n",
    "movie_genre_count = movie_genre_count.T\n",
    "movie_genre_count"
   ]
  },
  {
   "cell_type": "code",
   "execution_count": 137,
   "metadata": {},
   "outputs": [
    {
     "data": {
      "image/png": "[encoded data removed]",
      "text/plain": [
       "<Figure size 1080x720 with 1 Axes>"
      ]
     },
     "metadata": {
      "needs_background": "light"
     },
     "output_type": "display_data"
    }
   ],
   "source": [
    "plt.figure(figsize=(15, 10))\n",
    "ax = sns.barplot(\n",
    "    palette=sns.color_palette(), \n",
    "    edgecolor='.8', \n",
    "    data=movie_genre_count,\n",
    "    orient='h'\n",
    ")\n",
    "ax.set(xlabel='Count', ylabel='Movie Genres')\n",
    "\n",
    "\n",
    "plt.show()"
   ]
  },
  {
   "cell_type": "code",
   "execution_count": 138,
   "metadata": {},
   "outputs": [],
   "source": [
    "yearly_count = movie_corpus[~movie_corpus.year.isna()][['year']]\\\n",
    "    .groupby('year')\\\n",
    "    .size()\\\n",
    "    .reset_index().rename(columns={\n",
    "        0: 'values',\n",
    "    }).set_index(['year']).T"
   ]
  },
  {
   "cell_type": "code",
   "execution_count": 139,
   "metadata": {},
   "outputs": [
    {
     "data": {
      "text/html": [
       "<div>\n",
       "<style scoped>\n",
       "    .dataframe tbody tr th:only-of-type {\n",
       "        vertical-align: middle;\n",
       "    }\n",
       "\n",
       "    .dataframe tbody tr th {\n",
       "        vertical-align: top;\n",
       "    }\n",
       "\n",
       "    .dataframe thead th {\n",
       "        text-align: right;\n",
       "    }\n",
       "</style>\n",
       "<table border=\"1\" class=\"dataframe\">\n",
       "  <thead>\n",
       "    <tr style=\"text-align: right;\">\n",
       "      <th>year</th>\n",
       "      <th>2000</th>\n",
       "      <th>2001</th>\n",
       "      <th>2002</th>\n",
       "      <th>2003</th>\n",
       "      <th>2004</th>\n",
       "      <th>2005</th>\n",
       "      <th>2006</th>\n",
       "      <th>2007</th>\n",
       "      <th>2008</th>\n",
       "      <th>2009</th>\n",
       "      <th>...</th>\n",
       "      <th>2012</th>\n",
       "      <th>2013</th>\n",
       "      <th>2014</th>\n",
       "      <th>2015</th>\n",
       "      <th>2016</th>\n",
       "      <th>2017</th>\n",
       "      <th>2018</th>\n",
       "      <th>2019</th>\n",
       "      <th>2020</th>\n",
       "      <th>2021</th>\n",
       "    </tr>\n",
       "  </thead>\n",
       "  <tbody>\n",
       "    <tr>\n",
       "      <th>values</th>\n",
       "      <td>3072</td>\n",
       "      <td>3194</td>\n",
       "      <td>3260</td>\n",
       "      <td>3235</td>\n",
       "      <td>3386</td>\n",
       "      <td>3888</td>\n",
       "      <td>4070</td>\n",
       "      <td>4399</td>\n",
       "      <td>4953</td>\n",
       "      <td>5643</td>\n",
       "      <td>...</td>\n",
       "      <td>6826</td>\n",
       "      <td>7112</td>\n",
       "      <td>7570</td>\n",
       "      <td>8040</td>\n",
       "      <td>8704</td>\n",
       "      <td>9021</td>\n",
       "      <td>9164</td>\n",
       "      <td>8820</td>\n",
       "      <td>7371</td>\n",
       "      <td>7940</td>\n",
       "    </tr>\n",
       "  </tbody>\n",
       "</table>\n",
       "<p>1 rows × 22 columns</p>\n",
       "</div>"
      ],
      "text/plain": [
       "year    2000  2001  2002  2003  2004  2005  2006  2007  2008  2009  ...  2012  \\\n",
       "values  3072  3194  3260  3235  3386  3888  4070  4399  4953  5643  ...  6826   \n",
       "\n",
       "year    2013  2014  2015  2016  2017  2018  2019  2020  2021  \n",
       "values  7112  7570  8040  8704  9021  9164  8820  7371  7940  \n",
       "\n",
       "[1 rows x 22 columns]"
      ]
     },
     "execution_count": 139,
     "metadata": {},
     "output_type": "execute_result"
    }
   ],
   "source": [
    "yearly_count"
   ]
  },
  {
   "cell_type": "code",
   "execution_count": 140,
   "metadata": {},
   "outputs": [
    {
     "data": {
      "image/png": "[encoded data removed]",
      "text/plain": [
       "<Figure size 1080x720 with 1 Axes>"
      ]
     },
     "metadata": {
      "needs_background": "light"
     },
     "output_type": "display_data"
    }
   ],
   "source": [
    "plt.figure(figsize=(15, 10))\n",
    "# yearly_count.plot.bar()\n",
    "ax = sns.barplot(\n",
    "    palette=sns.color_palette(), \n",
    "    edgecolor='.8', \n",
    "    data=yearly_count,\n",
    ")\n",
    "\n",
    "ax.set(xlabel='Year', ylabel='Movie count')\n",
    "plt.show()"
   ]
  },
  {
   "cell_type": "markdown",
   "metadata": {},
   "source": [
    "## Text Analytics"
   ]
  },
  {
   "cell_type": "code",
   "execution_count": 141,
   "metadata": {},
   "outputs": [],
   "source": [
    "import nltk\n",
    "from nltk.corpus import stopwords"
   ]
  },
  {
   "cell_type": "markdown",
   "metadata": {},
   "source": [
    "### Download stopwords (Required at first run)"
   ]
  },
  {
   "cell_type": "code",
   "execution_count": null,
   "metadata": {},
   "outputs": [],
   "source": [
    "import ssl"
   ]
  },
  {
   "cell_type": "code",
   "execution_count": null,
   "metadata": {},
   "outputs": [],
   "source": [
    "try:\n",
    "    _create_unverified_https_context = ssl._create_unverified_context\n",
    "except AttributeError:\n",
    "    pass\n",
    "else:\n",
    "    ssl._create_default_https_context = _create_unverified_https_context\n",
    "\n",
    "nltk.download()"
   ]
  },
  {
   "cell_type": "markdown",
   "metadata": {},
   "source": [
    "Dialog below will be shown after cell aboved was executed. All downloaded resource store in `~/nltk_data`\n",
    "\n",
    "<center><img src=\"./img/nltk-package.png\" /></center>"
   ]
  },
  {
   "cell_type": "markdown",
   "metadata": {},
   "source": [
    "<center><img src=\"./img/nltk-package-downloaded.png\" /></center>"
   ]
  },
  {
   "cell_type": "code",
   "execution_count": 142,
   "metadata": {},
   "outputs": [
    {
     "name": "stdout",
     "output_type": "stream",
     "text": [
      "['i', 'me', 'my', 'myself', 'we', 'our', 'ours', 'ourselves', 'you', \"you're\", \"you've\", \"you'll\", \"you'd\", 'your', 'yours', 'yourself', 'yourselves', 'he', 'him', 'his', 'himself', 'she', \"she's\", 'her', 'hers', 'herself', 'it', \"it's\", 'its', 'itself', 'they', 'them', 'their', 'theirs', 'themselves', 'what', 'which', 'who', 'whom', 'this', 'that', \"that'll\", 'these', 'those', 'am', 'is', 'are', 'was', 'were', 'be', 'been', 'being', 'have', 'has', 'had', 'having', 'do', 'does', 'did', 'doing', 'a', 'an', 'the', 'and', 'but', 'if', 'or', 'because', 'as', 'until', 'while', 'of', 'at', 'by', 'for', 'with', 'about', 'against', 'between', 'into', 'through', 'during', 'before', 'after', 'above', 'below', 'to', 'from', 'up', 'down', 'in', 'out', 'on', 'off', 'over', 'under', 'again', 'further', 'then', 'once', 'here', 'there', 'when', 'where', 'why', 'how', 'all', 'any', 'both', 'each', 'few', 'more', 'most', 'other', 'some', 'such', 'no', 'nor', 'not', 'only', 'own', 'same', 'so', 'than', 'too', 'very', 's', 't', 'can', 'will', 'just', 'don', \"don't\", 'should', \"should've\", 'now', 'd', 'll', 'm', 'o', 're', 've', 'y', 'ain', 'aren', \"aren't\", 'couldn', \"couldn't\", 'didn', \"didn't\", 'doesn', \"doesn't\", 'hadn', \"hadn't\", 'hasn', \"hasn't\", 'haven', \"haven't\", 'isn', \"isn't\", 'ma', 'mightn', \"mightn't\", 'mustn', \"mustn't\", 'needn', \"needn't\", 'shan', \"shan't\", 'shouldn', \"shouldn't\", 'wasn', \"wasn't\", 'weren', \"weren't\", 'won', \"won't\", 'wouldn', \"wouldn't\"]\n"
     ]
    }
   ],
   "source": [
    "print(stopwords.words('english'))"
   ]
  },
  {
   "cell_type": "markdown",
   "metadata": {},
   "source": [
    "### NLP Example"
   ]
  },
  {
   "cell_type": "markdown",
   "metadata": {},
   "source": [
    "Objective: We need to tokenized movies description we collected from IMDB with task\n",
    "\n",
    "- [ ] Remove all special characters such as `,`, `.` or `;` even numbers from description\n",
    "- [ ] Tokenize movie description\n",
    "- [ ] Count tokens' frequency\n",
    "- [ ] Convert to lower characters\n",
    "- [ ] Remove stop words"
   ]
  },
  {
   "cell_type": "markdown",
   "metadata": {},
   "source": [
    "### Experiment process"
   ]
  },
  {
   "cell_type": "markdown",
   "metadata": {},
   "source": [
    "#### Tokenize"
   ]
  },
  {
   "cell_type": "code",
   "execution_count": 148,
   "metadata": {},
   "outputs": [],
   "source": [
    "from nltk import word_tokenize\n",
    "from collections import Counter"
   ]
  },
  {
   "cell_type": "code",
   "execution_count": 144,
   "metadata": {},
   "outputs": [],
   "source": [
    "# sentence = re.sub('[^A-Za-z ]+', '', movie_corpus.description[0].lower())\n",
    "sentence = movie_corpus.description[0].lower()"
   ]
  },
  {
   "cell_type": "code",
   "execution_count": 160,
   "metadata": {},
   "outputs": [
    {
     "data": {
      "text/plain": [
       "['zara',\n",
       " '(',\n",
       " 'gillian',\n",
       " 'white',\n",
       " ')',\n",
       " 'and',\n",
       " 'brian',\n",
       " '(',\n",
       " 'michael',\n",
       " 'jai',\n",
       " 'white',\n",
       " ')',\n",
       " 'are',\n",
       " 'living',\n",
       " 'the',\n",
       " 'perfect',\n",
       " 'small',\n",
       " 'town',\n",
       " 'life',\n",
       " 'when',\n",
       " 'a',\n",
       " 'mysterious',\n",
       " 'stranger',\n",
       " 'from',\n",
       " 'zara',\n",
       " \"'s\",\n",
       " 'secret',\n",
       " 'past',\n",
       " 'kidnaps',\n",
       " 'their',\n",
       " 'daughter',\n",
       " 'and',\n",
       " 'now',\n",
       " 'they',\n",
       " 'must',\n",
       " 'race',\n",
       " 'to',\n",
       " 'save',\n",
       " 'her',\n",
       " 'life',\n",
       " '.']"
      ]
     },
     "execution_count": 160,
     "metadata": {},
     "output_type": "execute_result"
    }
   ],
   "source": [
    "# Example\n",
    "movie_corpus.description[0]\n",
    "sentence = movie_corpus.description[0].lower()\n",
    "\n",
    "tokenized = word_tokenize(sentence)\n",
    "tokenized"
   ]
  },
  {
   "cell_type": "markdown",
   "metadata": {},
   "source": [
    "### Remove all stopwords"
   ]
  },
  {
   "cell_type": "code",
   "execution_count": 161,
   "metadata": {},
   "outputs": [],
   "source": [
    "english_stopwords = frozenset(stopwords.words('english'))"
   ]
  },
  {
   "cell_type": "code",
   "execution_count": 164,
   "metadata": {},
   "outputs": [
    {
     "data": {
      "text/plain": [
       "{\"'s\",\n",
       " '(',\n",
       " ')',\n",
       " '.',\n",
       " 'brian',\n",
       " 'daughter',\n",
       " 'gillian',\n",
       " 'jai',\n",
       " 'kidnaps',\n",
       " 'life',\n",
       " 'living',\n",
       " 'michael',\n",
       " 'must',\n",
       " 'mysterious',\n",
       " 'past',\n",
       " 'perfect',\n",
       " 'race',\n",
       " 'save',\n",
       " 'secret',\n",
       " 'small',\n",
       " 'stranger',\n",
       " 'town',\n",
       " 'white',\n",
       " 'zara'}"
      ]
     },
     "execution_count": 164,
     "metadata": {},
     "output_type": "execute_result"
    }
   ],
   "source": [
    "tokenized_set = set(tokenized)\n",
    "\n",
    "remaining = tokenized_set - english_stopwords\n",
    "remaining"
   ]
  },
  {
   "cell_type": "code",
   "execution_count": 165,
   "metadata": {},
   "outputs": [
    {
     "data": {
      "text/plain": [
       "Counter({'brian': 1,\n",
       "         '(': 1,\n",
       "         'life': 1,\n",
       "         'michael': 1,\n",
       "         'living': 1,\n",
       "         'gillian': 1,\n",
       "         'secret': 1,\n",
       "         'white': 1,\n",
       "         'perfect': 1,\n",
       "         'kidnaps': 1,\n",
       "         'save': 1,\n",
       "         'must': 1,\n",
       "         'jai': 1,\n",
       "         'daughter': 1,\n",
       "         '.': 1,\n",
       "         'race': 1,\n",
       "         'stranger': 1,\n",
       "         'past': 1,\n",
       "         'small': 1,\n",
       "         'town': 1,\n",
       "         'zara': 1,\n",
       "         \"'s\": 1,\n",
       "         'mysterious': 1,\n",
       "         ')': 1})"
      ]
     },
     "execution_count": 165,
     "metadata": {},
     "output_type": "execute_result"
    }
   ],
   "source": [
    "tf = Counter(remaining)\n",
    "tf"
   ]
  },
  {
   "cell_type": "code",
   "execution_count": null,
   "metadata": {},
   "outputs": [],
   "source": [
    "class classification(object):\n",
    "    def __init__(self, f):\n",
    "        self.f = f\n",
    "        \n",
    "    def __call__(self):\n",
    "        self.f()"
   ]
  },
  {
   "cell_type": "code",
   "execution_count": null,
   "metadata": {},
   "outputs": [],
   "source": [
    "def text_tokenize(description) -> str:\n",
    "    import re\n",
    "    return re.sub('[^A-Za-z ]+', '', description.lower())\n",
    "\n",
    "def counting(description, stopwords=None):\n",
    "    if None == stopwords:\n",
    "        from nltk import stopwords\n",
    "        stopwords = frozenset(stopwords.words('english'))"
   ]
  }
 ],
 "metadata": {
  "kernelspec": {
   "display_name": "TextClassification",
   "language": "python",
   "name": "textclassification"
  },
  "language_info": {
   "codemirror_mode": {
    "name": "ipython",
    "version": 3
   },
   "file_extension": ".py",
   "mimetype": "text/x-python",
   "name": "python",
   "nbconvert_exporter": "python",
   "pygments_lexer": "ipython3",
   "version": "3.7.4"
  }
 },
 "nbformat": 4,
 "nbformat_minor": 4
}
